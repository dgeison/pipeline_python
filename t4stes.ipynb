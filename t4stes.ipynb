{
 "cells": [
  {
   "cell_type": "code",
   "execution_count": 1,
   "metadata": {},
   "outputs": [
    {
     "data": {
      "text/plain": [
       "{'login': 'amzn',\n",
       " 'id': 8594673,\n",
       " 'node_id': 'MDEyOk9yZ2FuaXphdGlvbjg1OTQ2NzM=',\n",
       " 'avatar_url': 'https://avatars.githubusercontent.com/u/8594673?v=4',\n",
       " 'gravatar_id': '',\n",
       " 'url': 'https://api.github.com/users/amzn',\n",
       " 'html_url': 'https://github.com/amzn',\n",
       " 'followers_url': 'https://api.github.com/users/amzn/followers',\n",
       " 'following_url': 'https://api.github.com/users/amzn/following{/other_user}',\n",
       " 'gists_url': 'https://api.github.com/users/amzn/gists{/gist_id}',\n",
       " 'starred_url': 'https://api.github.com/users/amzn/starred{/owner}{/repo}',\n",
       " 'subscriptions_url': 'https://api.github.com/users/amzn/subscriptions',\n",
       " 'organizations_url': 'https://api.github.com/users/amzn/orgs',\n",
       " 'repos_url': 'https://api.github.com/users/amzn/repos',\n",
       " 'events_url': 'https://api.github.com/users/amzn/events{/privacy}',\n",
       " 'received_events_url': 'https://api.github.com/users/amzn/received_events',\n",
       " 'type': 'Organization',\n",
       " 'site_admin': False,\n",
       " 'name': 'Amazon',\n",
       " 'company': None,\n",
       " 'blog': 'https://developer.amazon.com/',\n",
       " 'location': None,\n",
       " 'email': None,\n",
       " 'hireable': None,\n",
       " 'bio': None,\n",
       " 'twitter_username': None,\n",
       " 'public_repos': 137,\n",
       " 'public_gists': 0,\n",
       " 'followers': 908,\n",
       " 'following': 0,\n",
       " 'created_at': '2014-08-29T21:50:46Z',\n",
       " 'updated_at': '2023-05-10T20:40:43Z'}"
      ]
     },
     "execution_count": 1,
     "metadata": {},
     "output_type": "execute_result"
    }
   ],
   "source": [
    "import requests\n",
    "\n",
    "owner = 'amzn'\n",
    "url = f'https://api.github.com/users/{owner}'\n",
    "\n",
    "response = requests.get(url)\n",
    "response.json()"
   ]
  },
  {
   "cell_type": "code",
   "execution_count": 2,
   "metadata": {},
   "outputs": [
    {
     "data": {
      "text/plain": [
       "137"
      ]
     },
     "execution_count": 2,
     "metadata": {},
     "output_type": "execute_result"
    }
   ],
   "source": [
    "response.json()['public_repos']"
   ]
  },
  {
   "cell_type": "code",
   "execution_count": 3,
   "metadata": {},
   "outputs": [
    {
     "data": {
      "text/plain": [
       "5"
      ]
     },
     "execution_count": 3,
     "metadata": {},
     "output_type": "execute_result"
    }
   ],
   "source": [
    "from math import ceil\n",
    "\n",
    "ceil(response.json()['public_repos']/30)"
   ]
  },
  {
   "cell_type": "code",
   "execution_count": null,
   "metadata": {},
   "outputs": [],
   "source": []
  }
 ],
 "metadata": {
  "kernelspec": {
   "display_name": ".pyenv",
   "language": "python",
   "name": "python3"
  },
  "language_info": {
   "codemirror_mode": {
    "name": "ipython",
    "version": 3
   },
   "file_extension": ".py",
   "mimetype": "text/x-python",
   "name": "python",
   "nbconvert_exporter": "python",
   "pygments_lexer": "ipython3",
   "version": "3.10.6"
  },
  "orig_nbformat": 4
 },
 "nbformat": 4,
 "nbformat_minor": 2
}
